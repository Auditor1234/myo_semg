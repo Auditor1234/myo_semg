{
 "cells": [
  {
   "cell_type": "code",
   "execution_count": null,
   "metadata": {},
   "outputs": [],
   "source": [
    "# generate data\n",
    "from data_process import prepare_data\n",
    "\n",
    "input_dir = mat_file = 'D:/Download/Datasets/Ninapro/DB5'\n",
    "output_dir = 'datasets/DB5/'\n",
    "exercise = 1\n",
    "subjects = [1,2,3,4,5,6,7,8,9,10]\n",
    "classes = range(1, 13)\n",
    "repetitions = range(1, 7)\n",
    "window_length = 50\n",
    "stride = 5\n",
    "prepare_data(input_dir, output_dir, exercise, subjects, classes, repetitions, window_length, stride)"
   ]
  },
  {
   "cell_type": "code",
   "execution_count": null,
   "metadata": {},
   "outputs": [],
   "source": [
    "# show data\n",
    "import torch\n",
    "\n",
    "file = 'datasets/DB5/s1/repetition3.pt'\n",
    "data = torch.load(file)\n",
    "print(data['emg'].shape)\n",
    "print('ok')"
   ]
  },
  {
   "cell_type": "code",
   "execution_count": 1,
   "metadata": {},
   "outputs": [],
   "source": [
    "# resemble data\n",
    "import os\n",
    "from glob import glob\n",
    "from functools import cmp_to_key\n",
    "\n",
    "def cmp(file1, file2):\n",
    "    if len(file1) > len(file2):\n",
    "        return 1\n",
    "    elif len(file1) < len(file2):\n",
    "        return -1\n",
    "    elif file1 > file2:\n",
    "        return 1\n",
    "    else:\n",
    "        return -1\n",
    "\n",
    "results_root = 'res'\n",
    "results_name = 'mean_results.csv'\n",
    "results_file = os.path.join(results_root, results_name)\n",
    "\n",
    "trained_dirs = sorted(glob(results_root + '/*mean_DST*'), key=cmp_to_key(cmp))\n",
    "\n",
    "\n",
    "with open(results_file, 'w') as result:\n",
    "    for trained_dir in trained_dirs:\n",
    "        file = os.path.join(trained_dir, 'csv/accuracy.csv')\n",
    "        with open(file, 'r') as source:\n",
    "            lines = source.readlines()\n",
    "            for i in range(len(lines)):\n",
    "                if i == 0:\n",
    "                    result.write('\\n')\n",
    "                else:\n",
    "                    result.write(lines[i])\n",
    "                \n"
   ]
  },
  {
   "cell_type": "code",
   "execution_count": 4,
   "metadata": {},
   "outputs": [
    {
     "name": "stdout",
     "output_type": "stream",
     "text": [
      "python main_db5_moe_all.py --subject_range 1 1  --uncertainty_type=DST process time: 2979.03 s\n",
      "python main_db5_moe_all.py --subject_range 5 5  --uncertainty_type=DST process time: 3003.92 s\n",
      "python main_db5_moe_all.py --subject_range 3 3  --uncertainty_type=DST process time: 3027.05 s\n",
      "python main_db5_moe_all.py --subject_range 9 9  --uncertainty_type=DST process time: 3395.96 s\n",
      "python main_db5_moe_all.py --subject_range 7 7  --uncertainty_type=DST process time: 3461.68 s\n",
      "python main_db5_moe_all.py --subject_range 2 2  --uncertainty_type=DST process time: 3462.89 s\n",
      "python main_db5_moe_all.py --subject_range 6 6  --uncertainty_type=DST process time: 3575.24 s\n",
      "python main_db5_moe_all.py --subject_range 10 10  --uncertainty_type=DST process time: 3582.76 s\n",
      "python main_db5_moe_all.py --subject_range 4 4  --uncertainty_type=DST process time: 3604.69 s\n",
      "python main_db5_moe_all.py --subject_range 8 8  --uncertainty_type=DST process time: 3615.15 s\n"
     ]
    }
   ],
   "source": [
    "#!/usr/bin/python\n",
    "# encoding=utf-8\n",
    "import time\n",
    "import os\n",
    "import subprocess\n",
    "import threading\n",
    "\n",
    "def run_db5(cmd):\n",
    "    start_time = time.time()\n",
    "    subprocess.run(cmd, shell=True, stdout=subprocess.PIPE, stderr=subprocess.STDOUT)\n",
    "    end_time = time.time()\n",
    "    print(cmd, 'process time: %.2f' % (end_time - start_time), 's')\n",
    "\n",
    "fusion=''\n",
    "u_type='DST'\n",
    "cmds = [\n",
    "    f'python main_db5_moe_all.py --subject_range 1 1 {fusion} --uncertainty_type={u_type}',\n",
    "    f'python main_db5_moe_all.py --subject_range 2 2 {fusion} --uncertainty_type={u_type}',\n",
    "    f'python main_db5_moe_all.py --subject_range 3 3 {fusion} --uncertainty_type={u_type}',\n",
    "    f'python main_db5_moe_all.py --subject_range 4 4 {fusion} --uncertainty_type={u_type}',\n",
    "    f'python main_db5_moe_all.py --subject_range 5 5 {fusion} --uncertainty_type={u_type}',\n",
    "    f'python main_db5_moe_all.py --subject_range 6 6 {fusion} --uncertainty_type={u_type}',\n",
    "    f'python main_db5_moe_all.py --subject_range 7 7 {fusion} --uncertainty_type={u_type}',\n",
    "    f'python main_db5_moe_all.py --subject_range 8 8 {fusion} --uncertainty_type={u_type}',\n",
    "    f'python main_db5_moe_all.py --subject_range 9 9 {fusion} --uncertainty_type={u_type}',\n",
    "    f'python main_db5_moe_all.py --subject_range 10 10 {fusion} --uncertainty_type={u_type}',\n",
    "]\n",
    "\n",
    "\n",
    "# 并行\n",
    "threads = []\n",
    "for cmd in cmds:\n",
    "    th = threading.Thread(target=run_db5, args=(cmd,))\n",
    "    th.start()\n",
    "    threads.append(th)\n",
    "# 等待线程运行完毕\n",
    "for th in threads:\n",
    "    th.join()\n"
   ]
  }
 ],
 "metadata": {
  "kernelspec": {
   "display_name": "Python 3",
   "language": "python",
   "name": "python3"
  },
  "language_info": {
   "codemirror_mode": {
    "name": "ipython",
    "version": 3
   },
   "file_extension": ".py",
   "mimetype": "text/x-python",
   "name": "python",
   "nbconvert_exporter": "python",
   "pygments_lexer": "ipython3",
   "version": "3.9.18"
  }
 },
 "nbformat": 4,
 "nbformat_minor": 2
}
