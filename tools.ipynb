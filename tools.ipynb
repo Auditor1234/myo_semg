{
 "cells": [
  {
   "cell_type": "code",
   "execution_count": null,
   "metadata": {},
   "outputs": [],
   "source": [
    "# generate data\n",
    "from data_process import prepare_data\n",
    "\n",
    "input_dir = mat_file = 'D:/Download/Datasets/Ninapro/DB5'\n",
    "output_dir = 'datasets/DB5/'\n",
    "exercise = 1\n",
    "subjects = [1,2,3,4,5,6,7,8,9,10]\n",
    "classes = range(1, 13)\n",
    "repetitions = range(1, 7)\n",
    "window_length = 50\n",
    "stride = 5\n",
    "prepare_data(input_dir, output_dir, exercise, subjects, classes, repetitions, window_length, stride)"
   ]
  },
  {
   "cell_type": "code",
   "execution_count": null,
   "metadata": {},
   "outputs": [],
   "source": [
    "# show data\n",
    "import torch\n",
    "\n",
    "file = 'datasets/DB5/s1/repetition3.pt'\n",
    "data = torch.load(file)\n",
    "print(data['emg'].shape)\n",
    "print('ok')"
   ]
  },
  {
   "cell_type": "code",
   "execution_count": null,
   "metadata": {},
   "outputs": [],
   "source": [
    "# resemble data\n",
    "import os\n",
    "from glob import glob\n",
    "from functools import cmp_to_key\n",
    "\n",
    "def cmp(file1, file2):\n",
    "    if len(file1) > len(file2):\n",
    "        return 1\n",
    "    elif len(file1) < len(file2):\n",
    "        return -1\n",
    "    elif file1 > file2:\n",
    "        return 1\n",
    "    else:\n",
    "        return -1\n",
    "\n",
    "results_root = 'res'\n",
    "results_name = 'results.csv'\n",
    "results_file = os.path.join(results_root, results_name)\n",
    "\n",
    "trained_dirs = sorted(glob(results_root + '/*BLUE_DST*'), key=cmp_to_key(cmp))\n",
    "\n",
    "\n",
    "with open(results_file, 'w') as result:\n",
    "    for trained_dir in trained_dirs:\n",
    "        file = os.path.join(trained_dir, 'csv/accuracy.csv')\n",
    "        with open(file, 'r') as source:\n",
    "            lines = source.readlines()\n",
    "            for i in range(len(lines)):\n",
    "                if i == 0:\n",
    "                    continue\n",
    "                result.write(lines[i])\n",
    "                result.write('\\n')\n"
   ]
  }
 ],
 "metadata": {
  "kernelspec": {
   "display_name": "Python 3",
   "language": "python",
   "name": "python3"
  },
  "language_info": {
   "codemirror_mode": {
    "name": "ipython",
    "version": 3
   },
   "file_extension": ".py",
   "mimetype": "text/x-python",
   "name": "python",
   "nbconvert_exporter": "python",
   "pygments_lexer": "ipython3",
   "version": "3.9.18"
  }
 },
 "nbformat": 4,
 "nbformat_minor": 2
}
